{
 "cells": [
  {
   "cell_type": "code",
   "execution_count": 26,
   "metadata": {},
   "outputs": [],
   "source": [
    "import cv2\n",
    "import pytesseract\n",
    "import numpy as np\n",
    "\n",
    "# Set the Tesseract path (update this with your Tesseract installation path)\n",
    "pytesseract.pytesseract.tesseract_cmd = r'C:\\Programs\\Tesseract\\tesseract.exe'\n"
   ]
  },
  {
   "cell_type": "code",
   "execution_count": 129,
   "metadata": {},
   "outputs": [],
   "source": [
    "def find_largest_contour(contours, height, width):\n",
    "    return max(\n",
    "        contours,\n",
    "        key=cv2.contourArea,\n",
    "        default=[\n",
    "            np.array([[0, 0]]),\n",
    "            np.array([[0, height]]),\n",
    "            np.array([[width, height]]),\n",
    "            np.array([[width, 0]]),\n",
    "        ],\n",
    "    )\n",
    "\n",
    "\n",
    "def get_corners_from_contour(contour):\n",
    "    peri = cv2.arcLength(contour, True)\n",
    "    approx = cv2.approxPolyDP(contour, 0.02 * peri, True)\n",
    "    return np.squeeze(approx)\n",
    "\n",
    "\n",
    "def order_points(corners):\n",
    "    rect = np.zeros((4, 2), dtype=np.float32)\n",
    "    s = corners.sum(axis=1)\n",
    "    rect[0] = corners[np.argmin(s)]\n",
    "    rect[2] = corners[np.argmax(s)]\n",
    "    diff = np.diff(corners, axis=1)\n",
    "    rect[1] = corners[np.argmin(diff)]\n",
    "    rect[3] = corners[np.argmax(diff)]\n",
    "    return rect\n",
    "\n",
    "\n",
    "def get_warped_image(image, corners):\n",
    "    width, height = 450, 450\n",
    "    rect = order_points(corners)\n",
    "    dst = np.array(\n",
    "        [[0, 0], [width - 1, 0], [width - 1, height - 1], [0, height - 1]],\n",
    "        dtype=np.float32,\n",
    "    )\n",
    "    M = cv2.getPerspectiveTransform(rect, dst)\n",
    "    warped = cv2.warpPerspective(image, M, (width, height))\n",
    "    return warped\n",
    "\n",
    "\n",
    "def divide_into_cells(image):\n",
    "    rows, cols = 9, 9\n",
    "    cell_height, cell_width = image.shape[0] // rows, image.shape[1] // cols\n",
    "    cells = []\n",
    "\n",
    "    for r in range(rows):\n",
    "        for c in range(cols):\n",
    "            y1, y2 = r * cell_height, (r + 1) * cell_height\n",
    "            x1, x2 = c * cell_width, (c + 1) * cell_width\n",
    "            cells.append(image[y1:y2, x1:x2])\n",
    "\n",
    "    return cells\n",
    "\n",
    "\n",
    "def remove_cell_border(cell_image):\n",
    "    # Remove the outer 10 pixels from each side of the cell image\n",
    "    borderSize = 5\n",
    "    cell_no_border = cell_image[borderSize:-borderSize, borderSize:-borderSize]\n",
    "\n",
    "    return cell_no_border\n"
   ]
  },
  {
   "cell_type": "code",
   "execution_count": 166,
   "metadata": {},
   "outputs": [],
   "source": [
    "preprocessed_image = cv2.imread(\"sudoku_picture.jpg\", cv2.IMREAD_GRAYSCALE)\n",
    "\n",
    " # Apply Gaussian blur to reduce noise\n",
    "blurred = cv2.GaussianBlur(preprocessed_image, (5, 5), 0)\n",
    "\n",
    "# Apply adaptive thresholding to create a binary image\n",
    "_, thresh = cv2.threshold(blurred, 0, 255, cv2.THRESH_BINARY_INV + cv2.THRESH_OTSU)\n",
    "\n",
    "# Perform morphological operations to remove noise and smooth the image\n",
    "kernel = cv2.getStructuringElement(cv2.MORPH_RECT, (3, 3))\n",
    "cleaned = cv2.morphologyEx(thresh, cv2.MORPH_CLOSE, kernel)\n",
    "\n",
    "# Find contours in the image\n",
    "contours, _ = cv2.findContours(cleaned.copy(), cv2.RETR_EXTERNAL, cv2.CHAIN_APPROX_SIMPLE)\n",
    "# contours, _ = cv2.findContours(preprocessed_image, cv2.RETR_EXTERNAL, cv2.CHAIN_APPROX_SIMPLE)\n",
    "\n",
    "# Find the largest contour (the outer boundary of the Sudoku grid)\n",
    "height, width = preprocessed_image.shape[:2]\n",
    "sudoku_grid_contour = find_largest_contour(contours, height, width)\n",
    "\n",
    "# Get the corners of the Sudoku grid\n",
    "sudoku_grid_corners = get_corners_from_contour(sudoku_grid_contour)\n",
    "\n",
    "# Warp the image to get a top-down view of the Sudoku grid\n",
    "# warped_image = get_warped_image(cleaned, sudoku_grid_corners)\n",
    "warped_image = get_warped_image(preprocessed_image, sudoku_grid_corners)\n",
    "\n",
    "# Divide the warped image into individual cells\n",
    "sudoku_cells = divide_into_cells(warped_image)"
   ]
  },
  {
   "cell_type": "code",
   "execution_count": 167,
   "metadata": {},
   "outputs": [
    {
     "data": {
      "text/plain": [
       "True"
      ]
     },
     "execution_count": 167,
     "metadata": {},
     "output_type": "execute_result"
    }
   ],
   "source": [
    "preprocessed_image = cv2.imread(\"sudoku_picture.jpg\", cv2.IMREAD_GRAYSCALE)\n",
    "# height, width = preprocessed_image.shape[:2]\n",
    "# height, width\n",
    "\n",
    "output_file = \"cleaned.png\"\n",
    "cv2.imwrite(output_file, cleaned)"
   ]
  },
  {
   "cell_type": "code",
   "execution_count": 154,
   "metadata": {},
   "outputs": [],
   "source": [
    "cells_without_border = [remove_cell_border(cell) for cell in sudoku_cells]"
   ]
  },
  {
   "cell_type": "code",
   "execution_count": 162,
   "metadata": {},
   "outputs": [],
   "source": [
    "image = preprocessed_image\n",
    "corners = sudoku_grid_corners\n",
    "\n",
    "width, height = 450, 450\n",
    "rect = order_points(corners)\n",
    "dst = np.array(\n",
    "    [[0, 0], [width - 1, 0], [width - 1, height - 1], [0, height - 1]],\n",
    "    dtype=np.float32,\n",
    ")\n",
    "M = cv2.getPerspectiveTransform(rect, dst)\n",
    "warped = cv2.warpPerspective(image, M, (width, height))\n",
    "\n",
    "\n",
    "warped_image = get_warped_image(preprocessed_image, sudoku_grid_corners)"
   ]
  },
  {
   "cell_type": "code",
   "execution_count": 165,
   "metadata": {},
   "outputs": [
    {
     "data": {
      "text/plain": [
       "True"
      ]
     },
     "execution_count": 165,
     "metadata": {},
     "output_type": "execute_result"
    }
   ],
   "source": [
    "def cut_out_region(image, corners):\n",
    "    # Get the bounding rectangle of the region of interest (ROI)\n",
    "    x, y, width, height = cv2.boundingRect(corners)\n",
    "\n",
    "    # Extract the portion of the image within the ROI\n",
    "    roi = image[y:y+height, x:x+width]\n",
    "\n",
    "    return roi\n",
    "\n",
    "cutout_image = cut_out_region(image, corners)\n",
    "\n",
    "\n",
    "output_file = \"selection.png\"\n",
    "cv2.imwrite(output_file, cutout_image)"
   ]
  },
  {
   "cell_type": "code",
   "execution_count": 160,
   "metadata": {},
   "outputs": [
    {
     "data": {
      "text/plain": [
       "True"
      ]
     },
     "execution_count": 160,
     "metadata": {},
     "output_type": "execute_result"
    }
   ],
   "source": [
    "output_file = \"preprocessed_image.png\"\n",
    "cv2.imwrite(output_file, preprocessed_image)\n",
    "\n",
    "output_file = \"warped_image.png\"\n",
    "cv2.imwrite(output_file, warped_image)\n",
    "\n",
    "output_file = \"cells_7.png\"\n",
    "cv2.imwrite(output_file, sudoku_cells[7])\n",
    "\n",
    "output_file = \"cells_8.png\"\n",
    "cv2.imwrite(output_file, sudoku_cells[8])\n",
    "\n",
    "output_file = \"cells_8_no_border.png\"\n",
    "cv2.imwrite(output_file, cells_without_border[8])\n",
    "\n",
    "output_file = \"cells_0_no_border.png\"\n",
    "cv2.imwrite(output_file, cells_without_border[0])"
   ]
  },
  {
   "cell_type": "code",
   "execution_count": 97,
   "metadata": {},
   "outputs": [],
   "source": [
    "sudoku_array = [[0 for _ in range(9)] for _ in range(9)]\n",
    "\n",
    "# Perform OCR on each cell to recognize the digits\n",
    "for row in range(9):\n",
    "    for col in range(9):\n",
    "        # Get the cell image\n",
    "        cell_image = cells_without_border[row * 9 + col]\n",
    "\n",
    "        # Apply OCR using Tesseract (you need to have pytesseract installed)\n",
    "        digit = pytesseract.image_to_string(\n",
    "            cell_image, config=\"--psm 10 --oem 3 -c tessedit_char_whitelist=123456789\"\n",
    "        )\n",
    "        # Remove unwanted characters and strip whitespace, including newline character\n",
    "        cleaned_digit = digit.strip()\n",
    "\n",
    "        # Store the recognized digit in the Sudoku array\n",
    "        sudoku_array[row][col] = int(cleaned_digit) if cleaned_digit.isdigit() else 0"
   ]
  },
  {
   "cell_type": "code",
   "execution_count": 98,
   "metadata": {},
   "outputs": [
    {
     "data": {
      "text/plain": [
       "[[1, 0, 0, 0, 0, 0, 0, 0, 6],\n",
       " [0, 0, 6, 0, 2, 0, 7, 0, 0],\n",
       " [7, 8, 9, 4, 5, 0, 1, 0, 3],\n",
       " [0, 0, 0, 8, 0, 7, 0, 0, 4],\n",
       " [0, 0, 0, 0, 3, 0, 0, 0, 0],\n",
       " [0, 9, 0, 0, 0, 4, 2, 0, 1],\n",
       " [3, 1, 2, 9, 7, 0, 0, 4, 0],\n",
       " [0, 4, 0, 0, 1, 2, 0, 7, 8],\n",
       " [9, 0, 8, 0, 0, 0, 0, 0, 0]]"
      ]
     },
     "execution_count": 98,
     "metadata": {},
     "output_type": "execute_result"
    }
   ],
   "source": [
    "sudoku_array"
   ]
  },
  {
   "cell_type": "code",
   "execution_count": 159,
   "metadata": {},
   "outputs": [
    {
     "name": "stdout",
     "output_type": "stream",
     "text": [
      "7\n",
      "\n"
     ]
    },
    {
     "data": {
      "text/plain": [
       "True"
      ]
     },
     "execution_count": 159,
     "metadata": {},
     "output_type": "execute_result"
    }
   ],
   "source": [
    "number = 3\n",
    "cell_image = cells_without_border[number]\n",
    "digit = pytesseract.image_to_string(\n",
    "            cell_image, config=\"--psm 10 --oem 3 -c tessedit_char_whitelist=123456789\"\n",
    "        )\n",
    "print(digit)\n",
    "output_file = \"cells_0_no_border.png\"\n",
    "cv2.imwrite(output_file, cells_without_border[number])"
   ]
  }
 ],
 "metadata": {
  "kernelspec": {
   "display_name": "Python 3",
   "language": "python",
   "name": "python3"
  },
  "language_info": {
   "codemirror_mode": {
    "name": "ipython",
    "version": 3
   },
   "file_extension": ".py",
   "mimetype": "text/x-python",
   "name": "python",
   "nbconvert_exporter": "python",
   "pygments_lexer": "ipython3",
   "version": "3.11.4"
  },
  "orig_nbformat": 4
 },
 "nbformat": 4,
 "nbformat_minor": 2
}
